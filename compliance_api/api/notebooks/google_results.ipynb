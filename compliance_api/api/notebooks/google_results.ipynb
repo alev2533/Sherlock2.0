{
 "cells": [
  {
   "cell_type": "code",
   "execution_count": null,
   "metadata": {},
   "outputs": [],
   "source": [
    "import requests\n",
    "\n",
    "topic = \"AENZA S.A.A. + lavado de activos\"\n",
    "\n",
    "response = requests.get(\n",
    "                url=\"https://app.scrapingbee.com/api/v1/store/google\",\n",
    "                params={\n",
    "                    \"api_key\": \"AJ0HMFE2GUM6NJEPM4N7IWOYCHP1HMXRDLV6Q8T9YB3CKJJWKM0L5T1LUD8O0K3BL1WGGRDNM4JG8QIE\",\n",
    "                    \"search\": topic,\n",
    "                    \"country_code\": \"pe\",\n",
    "                    \"language\": \"es\",\n",
    "                    \"nb_results\":10,\n",
    "                },\n",
    "                verify=False\n",
    "            )"
   ]
  },
  {
   "cell_type": "code",
   "execution_count": null,
   "metadata": {},
   "outputs": [],
   "source": [
    "import pandas as pd\n",
    "\n",
    "a = response.json()\n",
    "b = a.get(\"organic_results\", [])\n",
    "df = pd.DataFrame.from_dict(b)"
   ]
  },
  {
   "cell_type": "code",
   "execution_count": null,
   "metadata": {},
   "outputs": [],
   "source": [
    "df.columns"
   ]
  },
  {
   "cell_type": "code",
   "execution_count": null,
   "metadata": {},
   "outputs": [],
   "source": [
    "df2 = df[['url', 'title', 'description', 'date_utc']]"
   ]
  },
  {
   "cell_type": "code",
   "execution_count": 1,
   "metadata": {},
   "outputs": [],
   "source": [
    "from pydantic import BaseModel, ConfigDict\n",
    "\n",
    "class GoogleSearch(BaseModel):\n",
    "    model_config = ConfigDict(extra='allow')\n",
    "\n",
    "    company: str\n",
    "    search: str\n",
    "    url: str\n",
    "    title: str\n",
    "    description: str\n",
    "    date_utc: str"
   ]
  },
  {
   "cell_type": "code",
   "execution_count": 2,
   "metadata": {},
   "outputs": [],
   "source": [
    "a = GoogleSearch(company= 'aenza', search= 'aenza + crimen', url= 'blabla', title='asdas', description= 'asdsd', date_utc= '1911-12-12')"
   ]
  },
  {
   "cell_type": "code",
   "execution_count": 3,
   "metadata": {},
   "outputs": [
    {
     "name": "stdout",
     "output_type": "stream",
     "text": [
      "aenza\n"
     ]
    }
   ],
   "source": [
    "print(a.company)"
   ]
  },
  {
   "cell_type": "code",
   "execution_count": 4,
   "metadata": {},
   "outputs": [],
   "source": [
    "b = a.dict()"
   ]
  },
  {
   "cell_type": "code",
   "execution_count": 5,
   "metadata": {},
   "outputs": [],
   "source": [
    "c = a.model_dump()"
   ]
  },
  {
   "cell_type": "code",
   "execution_count": 1,
   "metadata": {},
   "outputs": [
    {
     "name": "stdout",
     "output_type": "stream",
     "text": [
      "True\n"
     ]
    }
   ],
   "source": [
    "a = True\n",
    "b = str(a)\n",
    "print(b)"
   ]
  }
 ],
 "metadata": {
  "kernelspec": {
   "display_name": "Python 3",
   "language": "python",
   "name": "python3"
  },
  "language_info": {
   "codemirror_mode": {
    "name": "ipython",
    "version": 3
   },
   "file_extension": ".py",
   "mimetype": "text/x-python",
   "name": "python",
   "nbconvert_exporter": "python",
   "pygments_lexer": "ipython3",
   "version": "3.11.0"
  }
 },
 "nbformat": 4,
 "nbformat_minor": 2
}
